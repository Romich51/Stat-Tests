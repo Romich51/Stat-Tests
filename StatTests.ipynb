{
 "cells": [
  {
   "cell_type": "code",
   "execution_count": 1,
   "metadata": {},
   "outputs": [],
   "source": [
    "from scipy.stats import ttest_ind\n",
    "from scipy.stats import mannwhitneyu\n",
    "from scipy.stats import norm\n",
    "import numpy as np"
   ]
  },
  {
   "cell_type": "code",
   "execution_count": null,
   "metadata": {},
   "outputs": [],
   "source": [
    "#ttest\n",
    "def evaluate(train_conversions, train_indices, test_conversions, test_indices):\n",
    "    train_conv_agr = np.bincount(train_indices, weights=train_conversions)\n",
    "    test_conv_agr = np.bincount(test_indices, weights=test_conversions)\n",
    "    return ttest_ind(train_conv_agr, test_conv_agr, equal_var=True).pvalue"
   ]
  },
  {
   "cell_type": "code",
   "execution_count": null,
   "metadata": {},
   "outputs": [],
   "source": [
    "#Z-test\n",
    "def evaluate(train_conversions, train_indices, test_conversions, test_indices):\n",
    "    train_conv_agr = np.bincount(train_indices, weights=train_conversions)\n",
    "    test_conv_agr = np.bincount(test_indices, weights=test_conversions)\n",
    "    X1 = train_conv_agr\n",
    "    X2 = test_conv_agr\n",
    "    mudiff = np.mean(X1) - np.mean(X2)\n",
    "    var1 = np.var(X1)\n",
    "    var2 = np.var(X2)\n",
    "    n1 = len(X1)\n",
    "    n2 = len(X2)\n",
    "    pooledSE = np.sqrt(var1/n1 + var2/n2)\n",
    "    z = ((X1 - X2) - mudiff)/pooledSE\n",
    "    pval = 2*(1 - norm.cdf(abs(z)))\n",
    "    return pval[0]"
   ]
  },
  {
   "cell_type": "code",
   "execution_count": null,
   "metadata": {},
   "outputs": [],
   "source": [
    "#MannWhitneyu\n",
    "def evaluate(train_conversions, train_indices, test_conversions, test_indices):\n",
    "    train_conv_agr = np.bincount(train_indices, weights=train_conversions)\n",
    "    test_conv_agr = np.bincount(test_indices, weights=test_conversions)\n",
    "    #alt = less; two-sided;greater;None\n",
    "    return mannwhitneyu(train_conversions, test_conversions).pvalue"
   ]
  },
  {
   "cell_type": "code",
   "execution_count": 76,
   "metadata": {},
   "outputs": [],
   "source": [
    "#Bootstrap\n",
    "def evaluate(train_conversions, train_indices, test_conversions, test_indices):\n",
    "    pvalues = []\n",
    "    for _ in range(3):\n",
    "        train = np.random.choice(train_conversions, replace=True, size=len(train_conversions))\n",
    "        test = np.random.choice(test_conversions, replace=True, size=len(test_conversions))\n",
    "        train_agr = np.bincount(train_indices, weights=train)\n",
    "        test_agr = np.bincount(test_indices, weights=test)\n",
    "        pvalues.append(ttest_ind(train_agr, test_agr, equal_var=True).pvalue)\n",
    "    return np.mean(pvalues)"
   ]
  },
  {
   "cell_type": "code",
   "execution_count": null,
   "metadata": {},
   "outputs": [],
   "source": []
  }
 ],
 "metadata": {
  "kernelspec": {
   "display_name": "Python 3",
   "language": "python",
   "name": "python3"
  },
  "language_info": {
   "codemirror_mode": {
    "name": "ipython",
    "version": 3
   },
   "file_extension": ".py",
   "mimetype": "text/x-python",
   "name": "python",
   "nbconvert_exporter": "python",
   "pygments_lexer": "ipython3",
   "version": "3.6.7"
  }
 },
 "nbformat": 4,
 "nbformat_minor": 2
}
